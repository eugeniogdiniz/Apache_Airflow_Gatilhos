{
 "cells": [
  {
   "cell_type": "code",
   "execution_count": 1,
   "metadata": {},
   "outputs": [
    {
     "name": "stdout",
     "output_type": "stream",
     "text": [
      "Collecting pandas\n",
      "  Downloading pandas-2.0.3-cp38-cp38-manylinux_2_17_x86_64.manylinux2014_x86_64.whl (12.4 MB)\n",
      "\u001b[K     |████████████████████████████████| 12.4 MB 859 kB/s eta 0:00:01     |███████████████████████████▏    | 10.5 MB 426 kB/s eta 0:00:05\n",
      "\u001b[?25hRequirement already satisfied: python-dateutil>=2.8.2 in /home/eugenio/.local/lib/python3.8/site-packages (from pandas) (2.8.2)\n",
      "Collecting numpy>=1.20.3; python_version < \"3.10\"\n",
      "  Downloading numpy-1.24.4-cp38-cp38-manylinux_2_17_x86_64.manylinux2014_x86_64.whl (17.3 MB)\n",
      "\u001b[K     |████████████████████████████████| 17.3 MB 937 kB/s eta 0:00:01     |█████████████████████████████   | 15.7 MB 1.2 MB/s eta 0:00:02\n",
      "\u001b[?25hCollecting tzdata>=2022.1\n",
      "  Downloading tzdata-2023.3-py2.py3-none-any.whl (341 kB)\n",
      "\u001b[K     |████████████████████████████████| 341 kB 1.1 MB/s eta 0:00:01\n",
      "\u001b[?25hCollecting pytz>=2020.1\n",
      "  Downloading pytz-2023.3-py2.py3-none-any.whl (502 kB)\n",
      "\u001b[K     |████████████████████████████████| 502 kB 1.1 MB/s eta 0:00:01\n",
      "\u001b[?25hRequirement already satisfied: six>=1.5 in /usr/lib/python3/dist-packages (from python-dateutil>=2.8.2->pandas) (1.14.0)\n",
      "Installing collected packages: numpy, tzdata, pytz, pandas\n",
      "Successfully installed numpy-1.24.4 pandas-2.0.3 pytz-2023.3 tzdata-2023.3\n",
      "Note: you may need to restart the kernel to use updated packages.\n"
     ]
    }
   ],
   "source": [
    "pip install pandas"
   ]
  },
  {
   "cell_type": "code",
   "execution_count": 6,
   "metadata": {},
   "outputs": [],
   "source": [
    "import shutil\n",
    "import os\n",
    "import glob"
   ]
  },
  {
   "cell_type": "code",
   "execution_count": 3,
   "metadata": {},
   "outputs": [],
   "source": [
    "caminho_origem = '/home/eugenio/Documentos/Gatilhos_Python/pasta_origem'\n",
    "caminho_destino = '/home/eugenio/Documentos/Gatilhos_Python/pasta_destino'"
   ]
  },
  {
   "cell_type": "code",
   "execution_count": 16,
   "metadata": {},
   "outputs": [],
   "source": [
    "def extrair_texto_arquivo(texto, delimitador):\n",
    "    partes = texto.rsplit(delimitador, 1)  # Dividir a string usando o delimitador como referência, apenas uma vez (a partir da direita)\n",
    "    if len(partes) > 1:\n",
    "        return partes[1]\n",
    "    else:\n",
    "        return texto  # Caso o delimitador não seja encontrado, retorna a string original\n",
    "\n"
   ]
  },
  {
   "cell_type": "code",
   "execution_count": 29,
   "metadata": {},
   "outputs": [],
   "source": [
    "def tratamento_de_dados(arquivo):\n",
    "    arquivo = extrair_texto_arquivo(arquivo, '/')\n",
    "    caminho_origem = f'/home/eugenio/Documentos/Gatilhos_Python/pasta_origem/{arquivo}'\n",
    "    caminho_destino = f'/home/eugenio/Documentos/Gatilhos_Python/pasta_destino/{arquivo}'\n",
    "    shutil.move(caminho_origem, caminho_destino)\n",
    "\n"
   ]
  },
  {
   "cell_type": "code",
   "execution_count": 31,
   "metadata": {},
   "outputs": [],
   "source": [
    "tratamento_de_dados('/home/eugenio/Documentos/Gatilhos_Python/pasta_origem/dados.csv')"
   ]
  },
  {
   "cell_type": "code",
   "execution_count": 14,
   "metadata": {},
   "outputs": [
    {
     "data": {
      "text/plain": [
       "['/home/eugenio/Documentos/Gatilhos_Python/pasta_origem/dados.csv']"
      ]
     },
     "execution_count": 14,
     "metadata": {},
     "output_type": "execute_result"
    }
   ],
   "source": [
    "pasta = '/home/eugenio/Documentos/Gatilhos_Python/pasta_origem' \n",
    "extensao_arquivo = \"*.csv\"\n",
    "\n",
    "caminho_arquivos = os.path.join(pasta, extensao_arquivo)\n",
    "arquivos_encontrados = glob.glob(caminho_arquivos)\n",
    "arquivos_encontrados\n"
   ]
  },
  {
   "cell_type": "code",
   "execution_count": 33,
   "metadata": {},
   "outputs": [],
   "source": [
    "def exec_geral():\n",
    "    pasta = '/home/eugenio/Documentos/Gatilhos_Python/pasta_origem' \n",
    "    extensao_arquivo = \"*.csv\"\n",
    "\n",
    "    caminho_arquivos = os.path.join(pasta, extensao_arquivo)\n",
    "\n",
    "    arquivos_encontrados = glob.glob(caminho_arquivos)\n",
    "\n",
    "    if not arquivos_encontrados:\n",
    "        print(\"Nenhum arquivo Excel encontrado na pasta. Nenhum tratamento de dados será executado.\")\n",
    "    else:\n",
    "        print(f\"Encontrados {len(arquivos_encontrados)} arquivos Excel. Executando tratamento de dados para cada um...\")\n",
    "        for arquivo in arquivos_encontrados:\n",
    "            print(f\"Arquivo: {arquivo}\")\n",
    "            tratamento_de_dados(arquivo)"
   ]
  },
  {
   "cell_type": "code",
   "execution_count": 35,
   "metadata": {},
   "outputs": [
    {
     "name": "stdout",
     "output_type": "stream",
     "text": [
      "Encontrados 8 arquivos Excel. Executando tratamento de dados para cada um...\n",
      "Arquivo: /home/eugenio/Documentos/Gatilhos_Python/pasta_origem/dados 1.csv\n",
      "Arquivo: /home/eugenio/Documentos/Gatilhos_Python/pasta_origem/dados (7ª cópia).csv\n",
      "Arquivo: /home/eugenio/Documentos/Gatilhos_Python/pasta_origem/dados (6ª cópia).csv\n",
      "Arquivo: /home/eugenio/Documentos/Gatilhos_Python/pasta_origem/dados.csv\n",
      "Arquivo: /home/eugenio/Documentos/Gatilhos_Python/pasta_origem/dados (5ª cópia).csv\n",
      "Arquivo: /home/eugenio/Documentos/Gatilhos_Python/pasta_origem/dados (4ª cópia).csv\n",
      "Arquivo: /home/eugenio/Documentos/Gatilhos_Python/pasta_origem/dados (cópia).csv\n",
      "Arquivo: /home/eugenio/Documentos/Gatilhos_Python/pasta_origem/dados (outra cópia).csv\n"
     ]
    }
   ],
   "source": [
    "exec_geral()"
   ]
  }
 ],
 "metadata": {
  "kernelspec": {
   "display_name": "Python 3",
   "language": "python",
   "name": "python3"
  },
  "language_info": {
   "codemirror_mode": {
    "name": "ipython",
    "version": 3
   },
   "file_extension": ".py",
   "mimetype": "text/x-python",
   "name": "python",
   "nbconvert_exporter": "python",
   "pygments_lexer": "ipython3",
   "version": "3.8.10"
  },
  "orig_nbformat": 4
 },
 "nbformat": 4,
 "nbformat_minor": 2
}
